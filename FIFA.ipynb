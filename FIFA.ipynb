import pandas as pd

# Load the datasets
world_cups = pd.read_csv('C:/Users/PAVITRA/OneDrive/Desktop/WorldCups.csv')
world_cup_matches = pd.read_csv('C:/Users/PAVITRA/OneDrive/Desktop/WorldCupMatches.csv')

# Display the first few rows of each dataset
print(world_cups.head())
print(world_cup_matches.head())


Year      Country      Winner      Runners-Up    Third      Fourth  \
0  1930      Uruguay     Uruguay       Argentina      USA  Yugoslavia   
1  1934        Italy       Italy  Czechoslovakia  Germany     Austria   
2  1938       France       Italy         Hungary   Brazil      Sweden   
3  1950       Brazil     Uruguay          Brazil   Sweden       Spain   
4  1954  Switzerland  Germany FR         Hungary  Austria     Uruguay   

   GoalsScored  QualifiedTeams  MatchesPlayed Attendance  
0           70              13             18    590.549  
1           70              16             17    363.000  
2           84              15             18    375.700  
3           88              13             22  1.045.246  
4          140              16             26    768.607  
     Year              Datetime    Stage         Stadium         City  \
0  1930.0  13 Jul 1930 - 15:00   Group 1         Pocitos  Montevideo    
1  1930.0  13 Jul 1930 - 15:00   Group 4  Parque Central  Montevideo    
2  1930.0  14 Jul 1930 - 12:45   Group 2  Parque Central  Montevideo    
3  1930.0  14 Jul 1930 - 14:50   Group 3         Pocitos  Montevideo    
4  1930.0  15 Jul 1930 - 16:00   Group 1  Parque Central  Montevideo    

  Home Team Name  Home Team Goals  Away Team Goals Away Team Name  \
0         France              4.0              1.0         Mexico   
1            USA              3.0              0.0        Belgium   
2     Yugoslavia              2.0              1.0         Brazil   
3        Romania              3.0              1.0           Peru   
4      Argentina              1.0              0.0         France   

  Win conditions  Attendance  Half-time Home Goals  Half-time Away Goals  \
0                     4444.0                   3.0                   0.0   
1                    18346.0                   2.0                   0.0   
2                    24059.0                   2.0                   0.0   
3                     2549.0                   1.0                   0.0   
4                    23409.0                   0.0                   0.0   

                  Referee               Assistant 1  \
0  LOMBARDI Domingo (URU)     CRISTOPHE Henry (BEL)   
1       MACIAS Jose (ARG)  MATEUCCI Francisco (URU)   
2     TEJADA Anibal (URU)   VALLARINO Ricardo (URU)   
3   WARNKEN Alberto (CHI)       LANGENUS Jean (BEL)   
4     REGO Gilberto (BRA)      SAUCEDO Ulises (BOL)   

                  Assistant 2  RoundID  MatchID Home Team Initials  \
0         REGO Gilberto (BRA)    201.0   1096.0                FRA   
1       WARNKEN Alberto (CHI)    201.0   1090.0                USA   
2         BALWAY Thomas (FRA)    201.0   1093.0                YUG   
3    MATEUCCI Francisco (URU)    201.0   1098.0                ROU   
4  RADULESCU Constantin (ROU)    201.0   1085.0                ARG   

  Away Team Initials  
0                MEX  
1                BEL  
2                BRA  


3                PER  
4                FRA  
[3]:


world_cup_matches['Datetime'] = pd.to_datetime(world_cup_matches['Datetime'], errors='coerce')

# Check for any remaining NaT (not-a-time) values that couldn't be parsed
print(world_cup_matches['Datetime'].isna().sum())

# Optionally: Handle or drop rows with NaT values depending on the requirement
world_cup_matches.dropna(subset=['Datetime'], inplace=True)

# Feature extraction: Extracting year, month, and day
world_cup_matches['Year'] = world_cup_matches['Datetime'].dt.year
world_cup_matches['Month'] = world_cup_matches['Datetime'].dt.month
world_cup_matches['Day'] = world_cup_matches['Datetime'].dt.day

# Verify the changes
print(world_cup_matches[['Datetime', 'Year', 'Month', 'Day']].head())



0
             Datetime  Year  Month  Day
0 1930-07-13 15:00:00  1930      7   13
1 1930-07-13 15:00:00  1930      7   13
2 1930-07-14 12:45:00  1930      7   14
3 1930-07-14 14:50:00  1930      7   14
4 1930-07-15 16:00:00  1930      7   15



# Check for missing values
print(world_cups.isnull().sum())
print(world_cup_matches.isnull().sum())

# Drop rows with missing values (if applicable)
world_cups.dropna(inplace=True)
world_cup_matches.dropna(inplace=True)

# Convert columns to appropriate data types
world_cups['Year'] = pd.to_datetime(world_cups['Year'], format='%Y')
world_cup_matches['Datetime'] = pd.to_datetime(world_cup_matches['Datetime'])

# Feature extraction: Extracting year, month, and day
world_cup_matches['Year'] = world_cup_matches['Datetime'].dt.year
world_cup_matches['Month'] = world_cup_matches['Datetime'].dt.month
world_cup_matches['Day'] = world_cup_matches['Datetime'].dt.day

Year              0
Country           0
Winner            0
Runners-Up        0
Third             0
Fourth            0
GoalsScored       0
QualifiedTeams    0
MatchesPlayed     0
Attendance        0
dtype: int64
Year                    0
Datetime                0
Stage                   0
Stadium                 0
City                    0
Home Team Name          0
Home Team Goals         0
Away Team Goals         0
Away Team Name          0
Win conditions          0
Attendance              0
Half-time Home Goals    0
Half-time Away Goals    0
Referee                 0
Assistant 1             0
Assistant 2             0
RoundID                 0
MatchID                 0
Home Team Initials      0
Away Team Initials      0
Month                   0
Day                     0
dtype: int64




import matplotlib.pyplot as plt
import seaborn as sns

# Goals scored by year
sns.barplot(x='Year', y='GoalsScored', data=world_cups)
plt.title('Goals Scored in Each World Cup')
plt.show()

# Matches played by year
sns.lineplot(x='Year', y='MatchesPlayed', data=world_cups)
plt.title('Matches Played Over the Years')
plt.show()

# Distribution of goals in matches
sns.histplot(world_cup_matches['Home Team Goals'] + world_cup_matches['Away Team Goals'], bins=10)
plt.title('Distribution of Total Goals per Match')
plt.show()







# Calculate Goal Difference for each match
world_cup_matches['GoalDifference'] = abs(world_cup_matches['Home Team Goals'] - world_cup_matches['Away Team Goals'])

# Calculate total goals for each team in the world cup
team_goals = world_cup_matches.groupby('Home Team Name')['Home Team Goals'].sum() + world_cup_matches.groupby('Away Team Name')['Away Team Goals'].sum()

# Merge these statistics with the world cups data
world_cups['TotalGoals'] = world_cups['Country'].map(team_goals)






# Count the number of times a team has won, been runners-up, etc.
winner_count = world_cups['Winner'].value_counts()
runner_up_count = world_cups['Runners-Up'].value_counts()
third_place_count = world_cups['Third'].value_counts()
fourth_place_count = world_cups['Fourth'].value_counts()

# Combine these into a DataFrame for better analysis
success_df = pd.DataFrame({
    'Winner': winner_count,
    'Runners-Up': runner_up_count,
    'Third Place': third_place_count,
    'Fourth Place': fourth_place_count
}).fillna(0)



import matplotlib.pyplot as plt
import seaborn as sns

# Bar plot of team success (wins, runners-up, etc.)
success_df.plot(kind='bar', stacked=True, figsize=(10, 7))
plt.title('Team Success in FIFA World Cup')
plt.ylabel('Count')
plt.xlabel('Teams')
plt.show()

# Average goals per match over the years
plt.figure(figsize=(10, 7))
sns.lineplot(data=world_cups, x='Year', y='GoalsScored')
plt.title('Total Goals Scored in World Cups Over the Years')
plt.xlabel('Year')
plt.ylabel('Goals Scored')
plt.show()








# Select only the numeric columns from the world_cups DataFrame
numeric_columns = world_cups.select_dtypes(include=['number'])

# Now perform correlation analysis
correlation_matrix = numeric_columns.corr()

# Visualize the correlation matrix using a heatmap
import seaborn as sns
import matplotlib.pyplot as plt

plt.figure(figsize=(10, 8))
sns.heatmap(correlation_matrix, annot=True, cmap='coolwarm', linewidths=0.5)
plt.title('Correlation Matrix')
plt.show()



from sklearn.model_selection import train_test_split
from sklearn.ensemble import RandomForestClassifier
from sklearn.metrics import accuracy_score, classification_report

# Example: Predicting match outcomes (win/lose/draw)
X = world_cup_matches[['Home Team Goals', 'Away Team Goals', 'GoalDifference']]
y = world_cup_matches['Win conditions'].apply(lambda x: 1 if 'win' in x.lower() else 0)  # Simplified outcome

X_train, X_test, y_train, y_test = train_test_split(X, y, test_size=0.2, random_state=42)

# Train a random forest model
model = RandomForestClassifier()
model.fit(X_train, y_train)

# Evaluate the model
y_pred = model.predict(X_test)
print("Accuracy:", accuracy_score(y_test, y_pred))
print(classification_report(y_test, y_pred))




Accuracy: 0.9345238095238095
              precision    recall  f1-score   support

           0       0.93      1.00      0.97       157
           1       0.00      0.00      0.00        11

    accuracy                           0.93       168
   macro avg       0.47      0.50      0.48       168
weighted avg       0.87      0.93      0.90       168

